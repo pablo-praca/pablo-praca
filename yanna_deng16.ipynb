{
 "cells": [
  {
   "cell_type": "code",
   "execution_count": 1,
   "id": "8d8c0e79",
   "metadata": {},
   "outputs": [],
   "source": [
    "import pandas as pd"
   ]
  },
  {
   "cell_type": "code",
   "execution_count": 2,
   "id": "916193fa",
   "metadata": {},
   "outputs": [
    {
     "name": "stderr",
     "output_type": "stream",
     "text": [
      "C:\\Users\\praca\\AppData\\Local\\Temp\\ipykernel_11972\\3280458472.py:1: DtypeWarning: Columns (6,9,10,18,21,22,64,68,75) have mixed types. Specify dtype option on import or set low_memory=False.\n",
      "  df = pd.read_csv('D:/yanna/dengue/DENGBR16.csv')\n"
     ]
    }
   ],
   "source": [
    "df = pd.read_csv('D:/yanna/dengue/DENGBR16.csv')"
   ]
  },
  {
   "cell_type": "code",
   "execution_count": 3,
   "id": "90715c6f",
   "metadata": {},
   "outputs": [
    {
     "data": {
      "text/html": [
       "<div>\n",
       "<style scoped>\n",
       "    .dataframe tbody tr th:only-of-type {\n",
       "        vertical-align: middle;\n",
       "    }\n",
       "\n",
       "    .dataframe tbody tr th {\n",
       "        vertical-align: top;\n",
       "    }\n",
       "\n",
       "    .dataframe thead th {\n",
       "        text-align: right;\n",
       "    }\n",
       "</style>\n",
       "<table border=\"1\" class=\"dataframe\">\n",
       "  <thead>\n",
       "    <tr style=\"text-align: right;\">\n",
       "      <th></th>\n",
       "      <th>TP_NOT</th>\n",
       "      <th>ID_AGRAVO</th>\n",
       "      <th>DT_NOTIFIC</th>\n",
       "      <th>SEM_NOT</th>\n",
       "      <th>NU_ANO</th>\n",
       "      <th>SG_UF_NOT</th>\n",
       "      <th>ID_MUNICIP</th>\n",
       "      <th>ID_REGIONA</th>\n",
       "      <th>ID_UNIDADE</th>\n",
       "      <th>DT_SIN_PRI</th>\n",
       "      <th>...</th>\n",
       "      <th>LACO_N</th>\n",
       "      <th>PLASMATICO</th>\n",
       "      <th>EVIDENCIA</th>\n",
       "      <th>PLAQ_MENOR</th>\n",
       "      <th>CON_FHD</th>\n",
       "      <th>COMPLICA</th>\n",
       "      <th>TP_SISTEMA</th>\n",
       "      <th>NDUPLIC_N</th>\n",
       "      <th>CS_FLXRET</th>\n",
       "      <th>FLXRECEBI</th>\n",
       "    </tr>\n",
       "  </thead>\n",
       "  <tbody>\n",
       "    <tr>\n",
       "      <th>0</th>\n",
       "      <td>2</td>\n",
       "      <td>A90</td>\n",
       "      <td>20161208</td>\n",
       "      <td>201649</td>\n",
       "      <td>2016</td>\n",
       "      <td>12</td>\n",
       "      <td>120040</td>\n",
       "      <td>1938.0</td>\n",
       "      <td>7530684.0</td>\n",
       "      <td>20161206</td>\n",
       "      <td>...</td>\n",
       "      <td>NaN</td>\n",
       "      <td>NaN</td>\n",
       "      <td>NaN</td>\n",
       "      <td>NaN</td>\n",
       "      <td>NaN</td>\n",
       "      <td>NaN</td>\n",
       "      <td>NaN</td>\n",
       "      <td>NaN</td>\n",
       "      <td>1.0</td>\n",
       "      <td>NaN</td>\n",
       "    </tr>\n",
       "    <tr>\n",
       "      <th>1</th>\n",
       "      <td>2</td>\n",
       "      <td>A90</td>\n",
       "      <td>20160220</td>\n",
       "      <td>201607</td>\n",
       "      <td>2016</td>\n",
       "      <td>12</td>\n",
       "      <td>120040</td>\n",
       "      <td>1938.0</td>\n",
       "      <td>6439837.0</td>\n",
       "      <td>20160219</td>\n",
       "      <td>...</td>\n",
       "      <td>NaN</td>\n",
       "      <td>NaN</td>\n",
       "      <td>NaN</td>\n",
       "      <td>NaN</td>\n",
       "      <td>NaN</td>\n",
       "      <td>NaN</td>\n",
       "      <td>NaN</td>\n",
       "      <td>NaN</td>\n",
       "      <td>1.0</td>\n",
       "      <td>NaN</td>\n",
       "    </tr>\n",
       "    <tr>\n",
       "      <th>2</th>\n",
       "      <td>2</td>\n",
       "      <td>A90</td>\n",
       "      <td>20160214</td>\n",
       "      <td>201607</td>\n",
       "      <td>2016</td>\n",
       "      <td>12</td>\n",
       "      <td>120001</td>\n",
       "      <td>1938.0</td>\n",
       "      <td>5701929.0</td>\n",
       "      <td>20160213</td>\n",
       "      <td>...</td>\n",
       "      <td>NaN</td>\n",
       "      <td>NaN</td>\n",
       "      <td>NaN</td>\n",
       "      <td>NaN</td>\n",
       "      <td>NaN</td>\n",
       "      <td>NaN</td>\n",
       "      <td>NaN</td>\n",
       "      <td>NaN</td>\n",
       "      <td>1.0</td>\n",
       "      <td>NaN</td>\n",
       "    </tr>\n",
       "    <tr>\n",
       "      <th>3</th>\n",
       "      <td>2</td>\n",
       "      <td>A90</td>\n",
       "      <td>20160218</td>\n",
       "      <td>201607</td>\n",
       "      <td>2016</td>\n",
       "      <td>12</td>\n",
       "      <td>120040</td>\n",
       "      <td>1938.0</td>\n",
       "      <td>6439837.0</td>\n",
       "      <td>20160217</td>\n",
       "      <td>...</td>\n",
       "      <td>NaN</td>\n",
       "      <td>NaN</td>\n",
       "      <td>NaN</td>\n",
       "      <td>NaN</td>\n",
       "      <td>NaN</td>\n",
       "      <td>NaN</td>\n",
       "      <td>NaN</td>\n",
       "      <td>NaN</td>\n",
       "      <td>1.0</td>\n",
       "      <td>NaN</td>\n",
       "    </tr>\n",
       "    <tr>\n",
       "      <th>4</th>\n",
       "      <td>2</td>\n",
       "      <td>A90</td>\n",
       "      <td>20160606</td>\n",
       "      <td>201623</td>\n",
       "      <td>2016</td>\n",
       "      <td>12</td>\n",
       "      <td>120020</td>\n",
       "      <td>1941.0</td>\n",
       "      <td>2002914.0</td>\n",
       "      <td>20160602</td>\n",
       "      <td>...</td>\n",
       "      <td>NaN</td>\n",
       "      <td>NaN</td>\n",
       "      <td>NaN</td>\n",
       "      <td>NaN</td>\n",
       "      <td>NaN</td>\n",
       "      <td>NaN</td>\n",
       "      <td>NaN</td>\n",
       "      <td>NaN</td>\n",
       "      <td>1.0</td>\n",
       "      <td>NaN</td>\n",
       "    </tr>\n",
       "  </tbody>\n",
       "</table>\n",
       "<p>5 rows × 119 columns</p>\n",
       "</div>"
      ],
      "text/plain": [
       "   TP_NOT ID_AGRAVO  DT_NOTIFIC  SEM_NOT  NU_ANO  SG_UF_NOT ID_MUNICIP  \\\n",
       "0       2       A90    20161208   201649    2016         12     120040   \n",
       "1       2       A90    20160220   201607    2016         12     120040   \n",
       "2       2       A90    20160214   201607    2016         12     120001   \n",
       "3       2       A90    20160218   201607    2016         12     120040   \n",
       "4       2       A90    20160606   201623    2016         12     120020   \n",
       "\n",
       "   ID_REGIONA  ID_UNIDADE DT_SIN_PRI  ... LACO_N PLASMATICO  EVIDENCIA  \\\n",
       "0      1938.0   7530684.0   20161206  ...    NaN        NaN        NaN   \n",
       "1      1938.0   6439837.0   20160219  ...    NaN        NaN        NaN   \n",
       "2      1938.0   5701929.0   20160213  ...    NaN        NaN        NaN   \n",
       "3      1938.0   6439837.0   20160217  ...    NaN        NaN        NaN   \n",
       "4      1941.0   2002914.0   20160602  ...    NaN        NaN        NaN   \n",
       "\n",
       "  PLAQ_MENOR  CON_FHD  COMPLICA  TP_SISTEMA  NDUPLIC_N CS_FLXRET  FLXRECEBI  \n",
       "0        NaN      NaN       NaN         NaN        NaN       1.0        NaN  \n",
       "1        NaN      NaN       NaN         NaN        NaN       1.0        NaN  \n",
       "2        NaN      NaN       NaN         NaN        NaN       1.0        NaN  \n",
       "3        NaN      NaN       NaN         NaN        NaN       1.0        NaN  \n",
       "4        NaN      NaN       NaN         NaN        NaN       1.0        NaN  \n",
       "\n",
       "[5 rows x 119 columns]"
      ]
     },
     "execution_count": 3,
     "metadata": {},
     "output_type": "execute_result"
    }
   ],
   "source": [
    "df.head()"
   ]
  },
  {
   "cell_type": "code",
   "execution_count": 4,
   "id": "e34e02ae",
   "metadata": {},
   "outputs": [],
   "source": [
    "memory = df.memory_usage(deep = True)"
   ]
  },
  {
   "cell_type": "code",
   "execution_count": 5,
   "id": "ee20e638",
   "metadata": {},
   "outputs": [
    {
     "name": "stdout",
     "output_type": "stream",
     "text": [
      "Index               132\n",
      "TP_NOT         18384160\n",
      "ID_AGRAVO     137881200\n",
      "DT_NOTIFIC     18384160\n",
      "SEM_NOT        18384160\n",
      "                ...    \n",
      "COMPLICA       18384160\n",
      "TP_SISTEMA     18384160\n",
      "NDUPLIC_N      18384160\n",
      "CS_FLXRET      18384160\n",
      "FLXRECEBI      18384160\n",
      "Length: 120, dtype: int64\n"
     ]
    }
   ],
   "source": [
    "print(memory)"
   ]
  },
  {
   "cell_type": "code",
   "execution_count": 6,
   "id": "48433aed",
   "metadata": {},
   "outputs": [
    {
     "data": {
      "text/plain": [
       "4.371119696646929"
      ]
     },
     "execution_count": 6,
     "metadata": {},
     "output_type": "execute_result"
    }
   ],
   "source": [
    "memory.sum() / (1024**3)"
   ]
  },
  {
   "cell_type": "code",
   "execution_count": 7,
   "id": "c4561239",
   "metadata": {},
   "outputs": [],
   "source": [
    "dengue16 = df.loc[0:, ['NU_ANO', 'SG_UF_NOT', 'ID_MUNICIP', 'MUNICIPIO', 'UF', 'DT_OBITO']]"
   ]
  },
  {
   "cell_type": "code",
   "execution_count": 8,
   "id": "6d04dc9a",
   "metadata": {},
   "outputs": [
    {
     "name": "stdout",
     "output_type": "stream",
     "text": [
      "<class 'pandas.core.frame.DataFrame'>\n",
      "RangeIndex: 2298020 entries, 0 to 2298019\n",
      "Data columns (total 6 columns):\n",
      " #   Column      Dtype  \n",
      "---  ------      -----  \n",
      " 0   NU_ANO      int64  \n",
      " 1   SG_UF_NOT   int64  \n",
      " 2   ID_MUNICIP  object \n",
      " 3   MUNICIPIO   object \n",
      " 4   UF          float64\n",
      " 5   DT_OBITO    object \n",
      "dtypes: float64(1), int64(2), object(3)\n",
      "memory usage: 105.2+ MB\n"
     ]
    }
   ],
   "source": [
    "dengue16.info()"
   ]
  },
  {
   "cell_type": "code",
   "execution_count": 16,
   "id": "96787cbb",
   "metadata": {},
   "outputs": [
    {
     "ename": "KeyError",
     "evalue": "\"None of ['NU_ANO'] are in the columns\"",
     "output_type": "error",
     "traceback": [
      "\u001b[1;31m---------------------------------------------------------------------------\u001b[0m",
      "\u001b[1;31mKeyError\u001b[0m                                  Traceback (most recent call last)",
      "Cell \u001b[1;32mIn[16], line 1\u001b[0m\n\u001b[1;32m----> 1\u001b[0m dengue16\u001b[38;5;241m.\u001b[39mset_index([\u001b[38;5;124m'\u001b[39m\u001b[38;5;124mNU_ANO\u001b[39m\u001b[38;5;124m'\u001b[39m], inplace \u001b[38;5;241m=\u001b[39m \u001b[38;5;28;01mTrue\u001b[39;00m)\n",
      "File \u001b[1;32m~\\anaconda3\\Lib\\site-packages\\pandas\\core\\frame.py:5873\u001b[0m, in \u001b[0;36mDataFrame.set_index\u001b[1;34m(self, keys, drop, append, inplace, verify_integrity)\u001b[0m\n\u001b[0;32m   5870\u001b[0m                 missing\u001b[38;5;241m.\u001b[39mappend(col)\n\u001b[0;32m   5872\u001b[0m \u001b[38;5;28;01mif\u001b[39;00m missing:\n\u001b[1;32m-> 5873\u001b[0m     \u001b[38;5;28;01mraise\u001b[39;00m \u001b[38;5;167;01mKeyError\u001b[39;00m(\u001b[38;5;124mf\u001b[39m\u001b[38;5;124m\"\u001b[39m\u001b[38;5;124mNone of \u001b[39m\u001b[38;5;132;01m{\u001b[39;00mmissing\u001b[38;5;132;01m}\u001b[39;00m\u001b[38;5;124m are in the columns\u001b[39m\u001b[38;5;124m\"\u001b[39m)\n\u001b[0;32m   5875\u001b[0m \u001b[38;5;28;01mif\u001b[39;00m inplace:\n\u001b[0;32m   5876\u001b[0m     frame \u001b[38;5;241m=\u001b[39m \u001b[38;5;28mself\u001b[39m\n",
      "\u001b[1;31mKeyError\u001b[0m: \"None of ['NU_ANO'] are in the columns\""
     ]
    }
   ],
   "source": [
    "dengue16.set_index(['NU_ANO'], inplace = True)"
   ]
  },
  {
   "cell_type": "code",
   "execution_count": 17,
   "id": "c0e42cce",
   "metadata": {},
   "outputs": [
    {
     "data": {
      "text/html": [
       "<div>\n",
       "<style scoped>\n",
       "    .dataframe tbody tr th:only-of-type {\n",
       "        vertical-align: middle;\n",
       "    }\n",
       "\n",
       "    .dataframe tbody tr th {\n",
       "        vertical-align: top;\n",
       "    }\n",
       "\n",
       "    .dataframe thead th {\n",
       "        text-align: right;\n",
       "    }\n",
       "</style>\n",
       "<table border=\"1\" class=\"dataframe\">\n",
       "  <thead>\n",
       "    <tr style=\"text-align: right;\">\n",
       "      <th></th>\n",
       "      <th>SG_UF_NOT</th>\n",
       "      <th>ID_MUNICIP</th>\n",
       "      <th>MUNICIPIO</th>\n",
       "      <th>UF</th>\n",
       "      <th>DT_OBITO</th>\n",
       "    </tr>\n",
       "    <tr>\n",
       "      <th>NU_ANO</th>\n",
       "      <th></th>\n",
       "      <th></th>\n",
       "      <th></th>\n",
       "      <th></th>\n",
       "      <th></th>\n",
       "    </tr>\n",
       "  </thead>\n",
       "  <tbody>\n",
       "    <tr>\n",
       "      <th>2016</th>\n",
       "      <td>12</td>\n",
       "      <td>120040</td>\n",
       "      <td>0</td>\n",
       "      <td>0.0</td>\n",
       "      <td></td>\n",
       "    </tr>\n",
       "    <tr>\n",
       "      <th>2016</th>\n",
       "      <td>12</td>\n",
       "      <td>120040</td>\n",
       "      <td>0</td>\n",
       "      <td>0.0</td>\n",
       "      <td></td>\n",
       "    </tr>\n",
       "    <tr>\n",
       "      <th>2016</th>\n",
       "      <td>12</td>\n",
       "      <td>120001</td>\n",
       "      <td>0</td>\n",
       "      <td>0.0</td>\n",
       "      <td></td>\n",
       "    </tr>\n",
       "    <tr>\n",
       "      <th>2016</th>\n",
       "      <td>12</td>\n",
       "      <td>120040</td>\n",
       "      <td>0</td>\n",
       "      <td>0.0</td>\n",
       "      <td></td>\n",
       "    </tr>\n",
       "    <tr>\n",
       "      <th>2016</th>\n",
       "      <td>12</td>\n",
       "      <td>120020</td>\n",
       "      <td>0</td>\n",
       "      <td>0.0</td>\n",
       "      <td></td>\n",
       "    </tr>\n",
       "    <tr>\n",
       "      <th>...</th>\n",
       "      <td>...</td>\n",
       "      <td>...</td>\n",
       "      <td>...</td>\n",
       "      <td>...</td>\n",
       "      <td>...</td>\n",
       "    </tr>\n",
       "    <tr>\n",
       "      <th>2016</th>\n",
       "      <td>35</td>\n",
       "      <td>355030</td>\n",
       "      <td>0</td>\n",
       "      <td>0.0</td>\n",
       "      <td></td>\n",
       "    </tr>\n",
       "    <tr>\n",
       "      <th>2016</th>\n",
       "      <td>35</td>\n",
       "      <td>355030</td>\n",
       "      <td>0</td>\n",
       "      <td>0.0</td>\n",
       "      <td></td>\n",
       "    </tr>\n",
       "    <tr>\n",
       "      <th>2016</th>\n",
       "      <td>35</td>\n",
       "      <td>355030</td>\n",
       "      <td>0</td>\n",
       "      <td>0.0</td>\n",
       "      <td></td>\n",
       "    </tr>\n",
       "    <tr>\n",
       "      <th>2016</th>\n",
       "      <td>35</td>\n",
       "      <td>355030</td>\n",
       "      <td>0</td>\n",
       "      <td>0.0</td>\n",
       "      <td></td>\n",
       "    </tr>\n",
       "    <tr>\n",
       "      <th>2016</th>\n",
       "      <td>35</td>\n",
       "      <td>355030</td>\n",
       "      <td>0</td>\n",
       "      <td>0.0</td>\n",
       "      <td></td>\n",
       "    </tr>\n",
       "  </tbody>\n",
       "</table>\n",
       "<p>2298020 rows × 5 columns</p>\n",
       "</div>"
      ],
      "text/plain": [
       "        SG_UF_NOT ID_MUNICIP MUNICIPIO   UF  DT_OBITO\n",
       "NU_ANO                                               \n",
       "2016           12     120040         0  0.0          \n",
       "2016           12     120040         0  0.0          \n",
       "2016           12     120001         0  0.0          \n",
       "2016           12     120040         0  0.0          \n",
       "2016           12     120020         0  0.0          \n",
       "...           ...        ...       ...  ...       ...\n",
       "2016           35     355030         0  0.0          \n",
       "2016           35     355030         0  0.0          \n",
       "2016           35     355030         0  0.0          \n",
       "2016           35     355030         0  0.0          \n",
       "2016           35     355030         0  0.0          \n",
       "\n",
       "[2298020 rows x 5 columns]"
      ]
     },
     "execution_count": 17,
     "metadata": {},
     "output_type": "execute_result"
    }
   ],
   "source": [
    "dengue16.fillna(0)"
   ]
  },
  {
   "cell_type": "code",
   "execution_count": 18,
   "id": "8580162b",
   "metadata": {},
   "outputs": [],
   "source": [
    "dengue16.to_csv('DENG16_TRATADO.csv')"
   ]
  },
  {
   "cell_type": "code",
   "execution_count": 12,
   "id": "c3f4c429",
   "metadata": {},
   "outputs": [],
   "source": [
    "memory2 = dengue16.memory_usage(deep = True)"
   ]
  },
  {
   "cell_type": "code",
   "execution_count": 13,
   "id": "2078630d",
   "metadata": {},
   "outputs": [
    {
     "data": {
      "text/plain": [
       "Index          18384160\n",
       "SG_UF_NOT      18384160\n",
       "ID_MUNICIP     83072565\n",
       "MUNICIPIO      73542466\n",
       "UF             18384160\n",
       "DT_OBITO      149371300\n",
       "dtype: int64"
      ]
     },
     "execution_count": 13,
     "metadata": {},
     "output_type": "execute_result"
    }
   ],
   "source": [
    "memory2"
   ]
  },
  {
   "cell_type": "code",
   "execution_count": 14,
   "id": "09934ead",
   "metadata": {},
   "outputs": [
    {
     "data": {
      "text/plain": [
       "0.3363367272540927"
      ]
     },
     "execution_count": 14,
     "metadata": {},
     "output_type": "execute_result"
    }
   ],
   "source": [
    "memory2.sum() / (1024**3)"
   ]
  },
  {
   "cell_type": "code",
   "execution_count": 19,
   "id": "dfadb3fa",
   "metadata": {},
   "outputs": [
    {
     "name": "stdout",
     "output_type": "stream",
     "text": [
      "        SG_UF_NOT ID_MUNICIP MUNICIPIO  UF  DT_OBITO\n",
      "NU_ANO                                              \n",
      "2016           12     120040       NaN NaN          \n",
      "2016           12     120040       NaN NaN          \n",
      "2016           12     120001       NaN NaN          \n",
      "2016           12     120040       NaN NaN          \n",
      "2016           12     120020       NaN NaN          \n",
      "...           ...        ...       ...  ..       ...\n",
      "2016           35     355030       NaN NaN          \n",
      "2016           35     355030       NaN NaN          \n",
      "2016           35     355030       NaN NaN          \n",
      "2016           35     355030       NaN NaN          \n",
      "2016           35     355030       NaN NaN          \n",
      "\n",
      "[2298020 rows x 5 columns]\n"
     ]
    }
   ],
   "source": [
    "print(dengue16)"
   ]
  },
  {
   "cell_type": "code",
   "execution_count": null,
   "id": "6288d33c",
   "metadata": {},
   "outputs": [],
   "source": []
  }
 ],
 "metadata": {
  "kernelspec": {
   "display_name": "Python 3 (ipykernel)",
   "language": "python",
   "name": "python3"
  },
  "language_info": {
   "codemirror_mode": {
    "name": "ipython",
    "version": 3
   },
   "file_extension": ".py",
   "mimetype": "text/x-python",
   "name": "python",
   "nbconvert_exporter": "python",
   "pygments_lexer": "ipython3",
   "version": "3.11.4"
  }
 },
 "nbformat": 4,
 "nbformat_minor": 5
}
